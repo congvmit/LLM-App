{
 "cells": [
  {
   "cell_type": "markdown",
   "metadata": {},
   "source": [
    "# Llama1 \n",
    "\n",
    "Llama is the transformer-baed model for language modeling. \n",
    "\n",
    "Ref: https://github.com/facebookresearch/llama"
   ]
  },
  {
   "cell_type": "code",
   "execution_count": 1,
   "metadata": {},
   "outputs": [],
   "source": [
    "import torch\n",
    "from torch import nn\n",
    "from torch.nn import functional as F\n",
    "import numpy as np\n",
    "from matplotlib import pyplot as plt\n",
    "import time\n",
    "import pandas as pd"
   ]
  },
  {
   "cell_type": "markdown",
   "metadata": {},
   "source": [
    "## Setup dataset\n",
    "\n",
    "We use TinyShakespeare dataset for training.\n",
    "This data is about 1M characters long and is a subset of the Shakespeare dataset."
   ]
  },
  {
   "cell_type": "code",
   "execution_count": 2,
   "metadata": {},
   "outputs": [
    {
     "name": "stdout",
     "output_type": "stream",
     "text": [
      "First Citizen:\n",
      "Before we proce\n"
     ]
    }
   ],
   "source": [
    "lines = open('./input.txt', 'r').read()\n",
    "\n",
    "vocab = sorted(list(set(lines)))\n",
    "itos = {i:ch for i, ch in enumerate(vocab)}\n",
    "stoi = {ch:i for i, ch in enumerate(vocab)}\n",
    "\n",
    "print(lines[:30])"
   ]
  },
  {
   "cell_type": "code",
   "execution_count": 3,
   "metadata": {},
   "outputs": [
    {
     "name": "stdout",
     "output_type": "stream",
     "text": [
      "vocab size: 65\n"
     ]
    },
    {
     "data": {
      "text/plain": [
       "'hello'"
      ]
     },
     "execution_count": 3,
     "metadata": {},
     "output_type": "execute_result"
    }
   ],
   "source": [
    "# simple tokenization by characters\n",
    "def encode(s):\n",
    "    return [stoi[ch] for ch in s]\n",
    "\n",
    "def decode(l):\n",
    "    return ''.join([itos[i] for i in l])\n",
    "\n",
    "print('vocab size:', len(vocab))\n",
    "decode(encode(\"hello\"))"
   ]
  },
  {
   "cell_type": "code",
   "execution_count": 4,
   "metadata": {},
   "outputs": [],
   "source": [
    "# Configrations\n",
    "MASTER_CONFIG = {\n",
    "    \"vocab_size\": len(vocab),\n",
    "}"
   ]
  },
  {
   "cell_type": "code",
   "execution_count": 6,
   "metadata": {},
   "outputs": [
    {
     "data": {
      "text/plain": [
       "torch.Size([1115394])"
      ]
     },
     "execution_count": 6,
     "metadata": {},
     "output_type": "execute_result"
    }
   ],
   "source": [
    "# Load data into memory\n",
    "dataset = torch.tensor(encode(lines), dtype=torch.int8)\n",
    "dataset.shape"
   ]
  },
  {
   "cell_type": "code",
   "execution_count": 7,
   "metadata": {},
   "outputs": [
    {
     "data": {
      "text/plain": [
       "[(\"\\nAnd 'twere the \", \"And 'twere the c\"),\n",
       " ('EO:\\nWhat, shall ', 'O:\\nWhat, shall I'),\n",
       " ('prove myself a l', 'rove myself a lo'),\n",
       " ('n my life, and h', ' my life, and ho'),\n",
       " ('ture, letting it', 'ure, letting it '),\n",
       " (' female buds sha', 'female buds shal'),\n",
       " ('s he is but my f', ' he is but my fa'),\n",
       " (' funeral;\\nOur in', 'funeral;\\nOur ins')]"
      ]
     },
     "execution_count": 7,
     "metadata": {},
     "output_type": "execute_result"
    }
   ],
   "source": [
    "# Data Generator\n",
    "def get_batches(data, split, batch_size, context_window, config=MASTER_CONFIG):\n",
    "    train = data[:int(.8 * len(data))]\n",
    "    val = data[int(.8 * len(data)): int(.9 * len(data))]\n",
    "    test = data[int(.9 * len(data)):]\n",
    "    \n",
    "    batch_data = train\n",
    "    if split == 'val':\n",
    "        batch_data = val\n",
    "\n",
    "    if split == 'test':\n",
    "        batch_data = test\n",
    "    \n",
    "    # pick random starting points\n",
    "    ix = torch.randint(0, batch_data.size(0) - context_window - 1, (batch_size,))\n",
    "    x = torch.stack([batch_data[i:i+context_window] for i in ix]).long()\n",
    "    y = torch.stack([batch_data[i+1:i+context_window+1] for i in ix]).long()\n",
    "    return x, y\n",
    "\n",
    "MASTER_CONFIG.update({\n",
    "    'batch_size': 8,\n",
    "    'context_window': 16\n",
    "})\n",
    "\n",
    "xs, ys = get_batches(dataset, 'train', MASTER_CONFIG['batch_size'], MASTER_CONFIG['context_window'])\n",
    "\n",
    "[(decode(xs[i].tolist()), decode(ys[i].tolist())) for i in range(len(xs))]"
   ]
  },
  {
   "cell_type": "markdown",
   "metadata": {},
   "source": [
    "I love the idea from [here](https://github.com/bkitano/llama-from-scratch/blob/main/llama.ipynb). \n",
    "\n",
    "What's interesting about implementing papers is that there are two aspects to the model working: compilation (do your tensors all match up from layer to layer), and training (does the loss go down). Figuring out how to ensure that each of your compoenents is working is key to developing your model in a predictable, engineering-minded way.\n",
    "\n",
    "That's why we're also going to define the method for how we're going to evaluate the model. We want to do this before we even define the model, because we want to be able to use it to evaluate the model as we're training it.\n"
   ]
  },
  {
   "cell_type": "code",
   "execution_count": 8,
   "metadata": {},
   "outputs": [],
   "source": [
    "@torch.no_grad()\n",
    "def evaluate_loss(model, config=MASTER_CONFIG):\n",
    "    out = {}\n",
    "    model.eval()\n",
    "    for split in ['train', 'val']:\n",
    "        losses = []\n",
    "        for _ in range(10):\n",
    "            xb, yb = get_batches(dataset, split, config['batch_size'], config['context_window'])    \n",
    "            _, loss = model(xb, yb)\n",
    "            losses.append(loss.item())\n",
    "        out[split] = np.mean(losses)\n",
    "    return out"
   ]
  },
  {
   "cell_type": "markdown",
   "metadata": {},
   "source": [
    "# Baseline Model\n",
    "\n",
    "Before we start implementing the very complex model like Llama, we need to have a baseline model to start with, and then swap out parts of it as we go along until we eventually end up with the model as described in the paper Llama.\n",
    "\n"
   ]
  },
  {
   "cell_type": "code",
   "execution_count": 9,
   "metadata": {},
   "outputs": [
    {
     "name": "stdout",
     "output_type": "stream",
     "text": [
      "Total number of parameters: 33217\n"
     ]
    }
   ],
   "source": [
    "class SimpleBrokenModel(nn.Module):\n",
    "    def __init__(self, config=MASTER_CONFIG):\n",
    "        super().__init__() \n",
    "        self.config = config \n",
    "        self.embedding = nn.Embedding(config['vocab_size'], config['d_model'])\n",
    "        self.linear = nn.Sequential(\n",
    "            nn.Linear(config['d_model'], config['d_model']),\n",
    "            nn.ReLU(),\n",
    "            nn.Linear(config['d_model'], config['vocab_size'])\n",
    "        )\n",
    "\n",
    "        print(\"Total number of parameters:\", sum(p.numel() for p in self.parameters()))\n",
    "\n",
    "    def forward(self, idx, targets=None):\n",
    "        x = self.embedding(idx)\n",
    "        a = self.linear(x)\n",
    "        logits = F.log_softmax(a, dim=-1)\n",
    "\n",
    "        if targets is not None:\n",
    "            loss = F.cross_entropy(logits.view(-1, self.config['vocab_size']), targets.view(-1))\n",
    "            return logits, loss\n",
    "        else:\n",
    "            return logits\n",
    "        \n",
    "MASTER_CONFIG.update({\n",
    "    'd_model': 128\n",
    "})\n",
    "\n",
    "model = SimpleBrokenModel(MASTER_CONFIG)\n",
    "xs, xy = get_batches(dataset, 'train', MASTER_CONFIG['batch_size'], MASTER_CONFIG['context_window'])\n",
    "logits, loss = model(xs, xy)"
   ]
  },
  {
   "cell_type": "markdown",
   "metadata": {},
   "source": [
    "Let's train the `SimpleBrokenModel` to make sure gradient descent is working.After confirming that, we can swap out parts of it to match Llama's architecture. Then, train the model again and track the progress of the loss."
   ]
  },
  {
   "cell_type": "code",
   "execution_count": 13,
   "metadata": {},
   "outputs": [
    {
     "name": "stdout",
     "output_type": "stream",
     "text": [
      "Total number of parameters: 33217\n",
      "Epoch: 0, Train loss: 4.143358945846558, Val loss: 4.139776515960693, Time: 0.00\n",
      "Epoch: 10, Train loss: 3.626010608673096, Val loss: 3.6305429697036744, Time: 0.02\n",
      "Epoch: 20, Train loss: 3.2050559759140014, Val loss: 3.2369032859802247, Time: 0.02\n",
      "Epoch: 30, Train loss: 2.9839334964752195, Val loss: 2.9880322933197023, Time: 0.01\n",
      "Epoch: 40, Train loss: 2.8230687856674193, Val loss: 2.8389495611190796, Time: 0.01\n",
      "Epoch: 50, Train loss: 2.7207280158996583, Val loss: 2.743194818496704, Time: 0.01\n",
      "Epoch: 60, Train loss: 2.7251606225967406, Val loss: 2.736199164390564, Time: 0.01\n",
      "Epoch: 70, Train loss: 2.6368897438049315, Val loss: 2.6773905992507934, Time: 0.01\n",
      "Epoch: 80, Train loss: 2.6466504335403442, Val loss: 2.612106776237488, Time: 0.01\n",
      "Epoch: 90, Train loss: 2.653713917732239, Val loss: 2.669803285598755, Time: 0.01\n",
      "Epoch: 100, Train loss: 2.6079373598098754, Val loss: 2.6559552192687987, Time: 0.01\n",
      "Epoch: 110, Train loss: 2.5932779788970945, Val loss: 2.6109851598739624, Time: 0.01\n",
      "Epoch: 120, Train loss: 2.5732505083084107, Val loss: 2.631808567047119, Time: 0.01\n",
      "Epoch: 130, Train loss: 2.543551206588745, Val loss: 2.62486412525177, Time: 0.01\n",
      "Epoch: 140, Train loss: 2.5524829626083374, Val loss: 2.5786858558654786, Time: 0.01\n",
      "Epoch: 150, Train loss: 2.539340543746948, Val loss: 2.602133870124817, Time: 0.01\n",
      "Epoch: 160, Train loss: 2.52409348487854, Val loss: 2.5705747842788695, Time: 0.01\n",
      "Epoch: 170, Train loss: 2.5067349433898927, Val loss: 2.574561905860901, Time: 0.01\n",
      "Epoch: 180, Train loss: 2.556229758262634, Val loss: 2.5717762231826784, Time: 0.01\n",
      "Epoch: 190, Train loss: 2.532261276245117, Val loss: 2.5727977991104125, Time: 0.01\n",
      "Epoch: 200, Train loss: 2.5163909196853638, Val loss: 2.570631909370422, Time: 0.01\n",
      "Epoch: 210, Train loss: 2.5538423538208006, Val loss: 2.565286660194397, Time: 0.01\n",
      "Epoch: 220, Train loss: 2.506117820739746, Val loss: 2.543902587890625, Time: 0.01\n",
      "Epoch: 230, Train loss: 2.53402361869812, Val loss: 2.536914825439453, Time: 0.01\n",
      "Epoch: 240, Train loss: 2.5169384717941283, Val loss: 2.547587013244629, Time: 0.01\n",
      "Epoch: 250, Train loss: 2.473630118370056, Val loss: 2.5569576025009155, Time: 0.01\n",
      "Epoch: 260, Train loss: 2.4819212436676024, Val loss: 2.542227602005005, Time: 0.01\n",
      "Epoch: 270, Train loss: 2.507579517364502, Val loss: 2.521772599220276, Time: 0.01\n",
      "Epoch: 280, Train loss: 2.48438982963562, Val loss: 2.5379330635070803, Time: 0.01\n",
      "Epoch: 290, Train loss: 2.511307787895203, Val loss: 2.562959313392639, Time: 0.01\n",
      "Epoch: 300, Train loss: 2.4788575410842895, Val loss: 2.5207677364349363, Time: 0.01\n",
      "Epoch: 310, Train loss: 2.4959401369094847, Val loss: 2.523340106010437, Time: 0.01\n",
      "Epoch: 320, Train loss: 2.5113574266433716, Val loss: 2.499764394760132, Time: 0.01\n",
      "Epoch: 330, Train loss: 2.4775521516799928, Val loss: 2.5227423906326294, Time: 0.01\n",
      "Epoch: 340, Train loss: 2.505337953567505, Val loss: 2.5454670190811157, Time: 0.02\n",
      "Epoch: 350, Train loss: 2.479134368896484, Val loss: 2.5164254903793335, Time: 0.01\n",
      "Epoch: 360, Train loss: 2.4785805225372313, Val loss: 2.5179038286209106, Time: 0.01\n",
      "Epoch: 370, Train loss: 2.4892380237579346, Val loss: 2.545727252960205, Time: 0.01\n",
      "Epoch: 380, Train loss: 2.4873943090438844, Val loss: 2.5275938749313354, Time: 0.01\n",
      "Epoch: 390, Train loss: 2.472929811477661, Val loss: 2.523563528060913, Time: 0.01\n",
      "Epoch: 400, Train loss: 2.488536524772644, Val loss: 2.525039529800415, Time: 0.01\n",
      "Epoch: 410, Train loss: 2.4723952531814577, Val loss: 2.5245781898498536, Time: 0.03\n",
      "Epoch: 420, Train loss: 2.5032348155975344, Val loss: 2.5005152225494385, Time: 0.02\n",
      "Epoch: 430, Train loss: 2.510964274406433, Val loss: 2.552295279502869, Time: 0.01\n",
      "Epoch: 440, Train loss: 2.5132041692733766, Val loss: 2.525687646865845, Time: 0.01\n",
      "Epoch: 450, Train loss: 2.4673632860183714, Val loss: 2.5378374576568605, Time: 0.01\n",
      "Epoch: 460, Train loss: 2.5143224000930786, Val loss: 2.5187808990478517, Time: 0.01\n",
      "Epoch: 470, Train loss: 2.4706292152404785, Val loss: 2.559646487236023, Time: 0.01\n",
      "Epoch: 480, Train loss: 2.5075777053833006, Val loss: 2.5048442602157595, Time: 0.01\n",
      "Epoch: 490, Train loss: 2.5008689880371096, Val loss: 2.4910560846328735, Time: 0.01\n",
      "Epoch: 500, Train loss: 2.474979519844055, Val loss: 2.5353098630905153, Time: 0.01\n",
      "Epoch: 510, Train loss: 2.5079796075820924, Val loss: 2.528480792045593, Time: 0.01\n",
      "Epoch: 520, Train loss: 2.482660722732544, Val loss: 2.510366201400757, Time: 0.01\n",
      "Epoch: 530, Train loss: 2.4799095153808595, Val loss: 2.4967676162719727, Time: 0.01\n",
      "Epoch: 540, Train loss: 2.4748592376708984, Val loss: 2.499081611633301, Time: 0.01\n",
      "Epoch: 550, Train loss: 2.476966691017151, Val loss: 2.512570381164551, Time: 0.01\n",
      "Epoch: 560, Train loss: 2.4716830968856813, Val loss: 2.5069863557815553, Time: 0.01\n",
      "Epoch: 570, Train loss: 2.4720947980880736, Val loss: 2.5297821044921873, Time: 0.01\n",
      "Epoch: 580, Train loss: 2.4808304071426392, Val loss: 2.523468089103699, Time: 0.01\n",
      "Epoch: 590, Train loss: 2.46096613407135, Val loss: 2.547069478034973, Time: 0.01\n",
      "Epoch: 600, Train loss: 2.496957564353943, Val loss: 2.5032452821731566, Time: 0.01\n",
      "Epoch: 610, Train loss: 2.4689971685409544, Val loss: 2.5036351919174193, Time: 0.01\n",
      "Epoch: 620, Train loss: 2.4792994976043703, Val loss: 2.5166558027267456, Time: 0.01\n",
      "Epoch: 630, Train loss: 2.4796497344970705, Val loss: 2.524530792236328, Time: 0.01\n",
      "Epoch: 640, Train loss: 2.4487390518188477, Val loss: 2.5383554220199587, Time: 0.01\n",
      "Epoch: 650, Train loss: 2.4818161487579347, Val loss: 2.5304660558700562, Time: 0.01\n",
      "Epoch: 660, Train loss: 2.47154221534729, Val loss: 2.5239099502563476, Time: 0.01\n",
      "Epoch: 670, Train loss: 2.4582724809646606, Val loss: 2.5359496116638183, Time: 0.01\n",
      "Epoch: 680, Train loss: 2.4896469593048094, Val loss: 2.5420966386795043, Time: 0.01\n",
      "Epoch: 690, Train loss: 2.4857931613922117, Val loss: 2.503015923500061, Time: 0.01\n",
      "Epoch: 700, Train loss: 2.4784831285476683, Val loss: 2.4922318696975707, Time: 0.01\n",
      "Epoch: 710, Train loss: 2.484899616241455, Val loss: 2.5100919008255005, Time: 0.01\n",
      "Epoch: 720, Train loss: 2.4482386112213135, Val loss: 2.5048461675643923, Time: 0.01\n",
      "Epoch: 730, Train loss: 2.4453649282455445, Val loss: 2.5068387031555175, Time: 0.01\n",
      "Epoch: 740, Train loss: 2.483811855316162, Val loss: 2.5213096141815186, Time: 0.01\n",
      "Epoch: 750, Train loss: 2.4727226734161376, Val loss: 2.530937838554382, Time: 0.01\n",
      "Epoch: 760, Train loss: 2.457245707511902, Val loss: 2.5259994745254515, Time: 0.01\n",
      "Epoch: 770, Train loss: 2.4780701398849487, Val loss: 2.5138869524002074, Time: 0.01\n",
      "Epoch: 780, Train loss: 2.4727218627929686, Val loss: 2.491522455215454, Time: 0.01\n",
      "Epoch: 790, Train loss: 2.484754180908203, Val loss: 2.5229581356048585, Time: 0.01\n",
      "Epoch: 800, Train loss: 2.482143449783325, Val loss: 2.5136182069778443, Time: 0.01\n",
      "Epoch: 810, Train loss: 2.471365547180176, Val loss: 2.5270469903945925, Time: 0.01\n",
      "Epoch: 820, Train loss: 2.495309257507324, Val loss: 2.5027182579040526, Time: 0.01\n",
      "Epoch: 830, Train loss: 2.4555045127868653, Val loss: 2.535003352165222, Time: 0.01\n",
      "Epoch: 840, Train loss: 2.4687179565429687, Val loss: 2.485476088523865, Time: 0.01\n",
      "Epoch: 850, Train loss: 2.4638204097747805, Val loss: 2.50117609500885, Time: 0.01\n",
      "Epoch: 860, Train loss: 2.4809481143951415, Val loss: 2.5573968172073362, Time: 0.01\n",
      "Epoch: 870, Train loss: 2.465094208717346, Val loss: 2.535790967941284, Time: 0.01\n",
      "Epoch: 880, Train loss: 2.4509016990661623, Val loss: 2.5159927129745485, Time: 0.02\n",
      "Epoch: 890, Train loss: 2.462757396697998, Val loss: 2.5362220764160157, Time: 0.01\n",
      "Epoch: 900, Train loss: 2.4546783685684206, Val loss: 2.5279905080795286, Time: 0.01\n",
      "Epoch: 910, Train loss: 2.4737044095993044, Val loss: 2.5344192504882814, Time: 0.01\n",
      "Epoch: 920, Train loss: 2.5103683471679688, Val loss: 2.5195565938949587, Time: 0.01\n",
      "Epoch: 930, Train loss: 2.4703537940979006, Val loss: 2.5149430513381956, Time: 0.01\n",
      "Epoch: 940, Train loss: 2.484773850440979, Val loss: 2.5171115398406982, Time: 0.01\n",
      "Epoch: 950, Train loss: 2.4597867727279663, Val loss: 2.5305716753005982, Time: 0.01\n",
      "Epoch: 960, Train loss: 2.4707677364349365, Val loss: 2.5171438455581665, Time: 0.01\n",
      "Epoch: 970, Train loss: 2.465804386138916, Val loss: 2.490455150604248, Time: 0.01\n",
      "Epoch: 980, Train loss: 2.453606200218201, Val loss: 2.5004532814025877, Time: 0.01\n",
      "Epoch: 990, Train loss: 2.4691601276397703, Val loss: 2.5022244215011598, Time: 0.01\n",
      "Validation loss: 2.5022244215011598\n"
     ]
    },
    {
     "data": {
      "text/plain": [
       "<Axes: >"
      ]
     },
     "execution_count": 13,
     "metadata": {},
     "output_type": "execute_result"
    },
    {
     "data": {
      "image/png": "[encoded data removed]",
      "text/plain": [
       "<Figure size 640x480 with 1 Axes>"
      ]
     },
     "metadata": {},
     "output_type": "display_data"
    }
   ],
   "source": [
    "MASTER_CONFIG.update({\n",
    "    'lr': 1e-3,\n",
    "    'n_epochs': 1000, \n",
    "    'print_every': 10, \n",
    "    'batch_size': 32\n",
    "})\n",
    "\n",
    "model = SimpleBrokenModel(MASTER_CONFIG)\n",
    "\n",
    "optimizer = torch.optim.Adam(model.parameters(), lr=MASTER_CONFIG['lr'])\n",
    "\n",
    "def train(model, optimizer, scheduler=None, config=MASTER_CONFIG, verbose=True):\n",
    "    losses = []\n",
    "    start_time = time.time()\n",
    "\n",
    "    for epoch in range(config['n_epochs']):\n",
    "        optimizer.zero_grad()\n",
    "\n",
    "        xs, ys = get_batches(dataset, 'train', config['batch_size'], config['context_window'])\n",
    "        logits, loss = model(xs, ys)\n",
    "        loss.backward()\n",
    "        optimizer.step()\n",
    "\n",
    "        if scheduler is not None:\n",
    "            scheduler.step()\n",
    "\n",
    "        if epoch % config['print_every'] == 0:\n",
    "            batch_time = time.time() - start_time\n",
    "            eval_loss = evaluate_loss(model)\n",
    "            losses.append(eval_loss)\n",
    "            if verbose:\n",
    "                if scheduler is not None:\n",
    "                    print(f\"Epoch: {epoch}, Train loss: {eval_loss['train']}, Val loss: {eval_loss['val']}, Time: {batch_time:.2f}, LR: {scheduler.get_last_lr()[0]}\")\n",
    "                else:\n",
    "                    print(f\"Epoch: {epoch}, Train loss: {eval_loss['train']}, Val loss: {eval_loss['val']}, Time: {batch_time:.2f}\")\n",
    "            start_time = time.time()\n",
    "    print(\"Validation loss:\", losses[-1]['val'])\n",
    "    return pd.DataFrame(losses).plot()\n",
    "    \n",
    "train(model, optimizer)"
   ]
  },
  {
   "cell_type": "markdown",
   "metadata": {},
   "source": []
  },
  {
   "cell_type": "markdown",
   "metadata": {},
   "source": []
  }
 ],
 "metadata": {
  "kernelspec": {
   "display_name": "app-py3",
   "language": "python",
   "name": "python3"
  },
  "language_info": {
   "codemirror_mode": {
    "name": "ipython",
    "version": 3
   },
   "file_extension": ".py",
   "mimetype": "text/x-python",
   "name": "python",
   "nbconvert_exporter": "python",
   "pygments_lexer": "ipython3",
   "version": "3.10.13"
  }
 },
 "nbformat": 4,
 "nbformat_minor": 2
}
